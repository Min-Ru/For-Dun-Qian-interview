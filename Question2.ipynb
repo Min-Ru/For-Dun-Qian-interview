{
 "cells": [
  {
   "cell_type": "code",
   "execution_count": 1,
   "metadata": {},
   "outputs": [],
   "source": [
    "from math import sqrt"
   ]
  },
  {
   "cell_type": "code",
   "execution_count": 2,
   "metadata": {},
   "outputs": [],
   "source": [
    "def indicator(TP, FP, FN, TN):\n",
    "    acc = round(((TP + TN) / (TP + FN + FP + TN)),4)\n",
    "    recall_positive = round((TP / (TP + FN)),4)\n",
    "    recall_negative = round((TN / (FP + TN)),4)\n",
    "    precision_positive = round((TP / (TP + FP)),4)\n",
    "    precision_negative = round((TN / (TN + FN)),4)\n",
    "    f1_score_positive = round((2*precision_positive*recall_positive / (precision_positive + recall_positive)),4)\n",
    "    f1_score_negative = round((2*precision_negative*recall_negative / (precision_negative + recall_negative)),4)\n",
    "   \n",
    "    p_0 = (TN + TP) / (TN + FP + FN + TP)\n",
    "    p_c = ((TN+FN)*(TN+FP) + (FN+TP)*(FP+TP)) / (TN + FP + FN + TP)**2\n",
    "    kappa = round(((p_0 - p_c) / (1-p_c)),4) \n",
    "    \n",
    "    numerator = (TP * TN) - (FP * FN)\n",
    "    denominator = sqrt((TP+FP) * (TP+FN) * (TN+FP) * (TN+FN))\n",
    "    mcc = round((numerator / denominator),4)  \n",
    "    \n",
    "    print(\"\\n\",'1.acc:',acc,\",\\n\",'2.recall_positive:',recall_positive,\",\\n\",'3.recall_negative:',recall_negative,\n",
    "          \",\\n\",'4.precision_positive:',precision_positive,\",\\n\",'5.precision_negative:',precision_negative,\n",
    "          \",\\n\",'6.f1_score_positive:',f1_score_positive,\",\\n\",'7.f1_score_negative:',f1_score_negative,\",\\n\",'8.kappa:',kappa,\",\\n\",'9.mcc:',mcc)"
   ]
  },
  {
   "cell_type": "markdown",
   "metadata": {},
   "source": [
    "Acc (Accuracy) : 不適用於不平衡資料，故不以此為衡量標準  \n",
    "recall_positive : 實際為Positive的樣本中，被正確判斷為Positive的比率  \n",
    "recall_negative : 實際為Negative的樣本中，被正確判斷為Negative的比率  \n",
    "precision_positive : 預測為Positive樣本中，實際亦為Positive的比率  \n",
    "precision_negative : 預測為Negative的樣本中，實際亦為Negative的比率  \n",
    "f1_score : precision和recall的調和平均  \n",
    "kappa : Cohen's kappa係數是用來分析兩個審查者對於類別項目評分的一致性，(0,1)越高越好  \n",
    "mcc : Matthews correlation coefficient常用於不平衡類別衡量標準,(-1,1), 1表示完美預測, -1表示完全不一致  "
   ]
  },
  {
   "cell_type": "markdown",
   "metadata": {},
   "source": [
    "# ModelA"
   ]
  },
  {
   "cell_type": "code",
   "execution_count": 3,
   "metadata": {},
   "outputs": [],
   "source": [
    "TP, FP, TN, FN = (853, 341, 7230, 576)"
   ]
  },
  {
   "cell_type": "code",
   "execution_count": 4,
   "metadata": {},
   "outputs": [
    {
     "name": "stdout",
     "output_type": "stream",
     "text": [
      "\n",
      " 1.acc: 0.8981 ,\n",
      " 2.recall_positive: 0.5969 ,\n",
      " 3.recall_negative: 0.955 ,\n",
      " 4.precision_positive: 0.7144 ,\n",
      " 5.precision_negative: 0.9262 ,\n",
      " 6.f1_score_positive: 0.6504 ,\n",
      " 7.f1_score_negative: 0.9404 ,\n",
      " 8.kappa: 0.5913 ,\n",
      " 9.mcc: 0.5946\n"
     ]
    }
   ],
   "source": [
    "indicator(TP, FP, FN, TN)"
   ]
  },
  {
   "cell_type": "markdown",
   "metadata": {},
   "source": [
    "# ModelB"
   ]
  },
  {
   "cell_type": "code",
   "execution_count": 5,
   "metadata": {},
   "outputs": [],
   "source": [
    "TP, FP, TN, FN = (846, 316, 7255, 583)"
   ]
  },
  {
   "cell_type": "code",
   "execution_count": 6,
   "metadata": {},
   "outputs": [
    {
     "name": "stdout",
     "output_type": "stream",
     "text": [
      "\n",
      " 1.acc: 0.9001 ,\n",
      " 2.recall_positive: 0.592 ,\n",
      " 3.recall_negative: 0.9583 ,\n",
      " 4.precision_positive: 0.7281 ,\n",
      " 5.precision_negative: 0.9256 ,\n",
      " 6.f1_score_positive: 0.653 ,\n",
      " 7.f1_score_negative: 0.9417 ,\n",
      " 8.kappa: 0.5954 ,\n",
      " 9.mcc: 0.5998\n"
     ]
    }
   ],
   "source": [
    "indicator(TP, FP, FN, TN)"
   ]
  },
  {
   "cell_type": "markdown",
   "metadata": {},
   "source": [
    "由以上結果可知:   \n",
    "1.Acc : ModelA > ModelB , 在不平衡資料當中，此並非為衡量的主要標準  \n",
    "2.recall_positive : ModelA > ModelB, 表示實際為Positive的樣本中，被正確判斷為Positive的比率ModelA比ModelB高一點  \n",
    "3.recall_negative : ModelA < ModelB, 表示實際為Negative的樣本中，被正確判斷為Negative的比率ModelA比ModelB低一些  \n",
    "4.precision_positive : ModelA < ModelB, 表示預測為Positive樣本中，實際亦為Positive的比率ModelA比ModelB低  \n",
    "5.precision_negative : ModelA > ModelB, 表示預測為Negative的樣本中，實際亦為Negative的比率ModelA比ModelB高  \n",
    "6.f1_score_positive : ModelA < ModelB, 表示對於Positive的預測ModelA比ModelB低  \n",
    "7.f1_score_negative : ModelA < ModelB, 表示對於Negative的預測ModelA比ModelB低  \n",
    "8.kappa : ModelA < ModelB, 表示ModelB比ModelA好  \n",
    "9.mcc : ModelA < ModelB, 表示ModelB比ModelA好  \n",
    "  \n",
    "## 綜合以上衡量標準, ModelB比ModelA好"
   ]
  },
  {
   "cell_type": "code",
   "execution_count": null,
   "metadata": {},
   "outputs": [],
   "source": []
  }
 ],
 "metadata": {
  "kernelspec": {
   "display_name": "tf2-gpu",
   "language": "python",
   "name": "tf2-gpu"
  },
  "language_info": {
   "codemirror_mode": {
    "name": "ipython",
    "version": 3
   },
   "file_extension": ".py",
   "mimetype": "text/x-python",
   "name": "python",
   "nbconvert_exporter": "python",
   "pygments_lexer": "ipython3",
   "version": "3.6.13"
  }
 },
 "nbformat": 4,
 "nbformat_minor": 4
}
